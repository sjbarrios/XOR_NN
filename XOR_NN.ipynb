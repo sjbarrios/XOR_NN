{
 "cells": [
  {
   "cell_type": "markdown",
   "metadata": {},
   "source": [
    "Universidad Galileo\n",
    "\n",
    "Statistical Learning II\n",
    "\n",
    "PAPD - Sección V\n",
    "\n",
    "Sergio José Barrios Martínez\n",
    "\n",
    "Carnet No. 19012765\n",
    "\n",
    "# XOR y Redes Neuronales"
   ]
  },
  {
   "cell_type": "code",
   "execution_count": 1,
   "metadata": {},
   "outputs": [],
   "source": [
    "import numpy as np\n",
    "import matplotlib.pyplot as plt"
   ]
  },
  {
   "cell_type": "markdown",
   "metadata": {},
   "source": [
    "## Parte No. 1\n",
    "\n",
    "Dado el siguiente diagrama y asumiendo que las neuronas de salida  tienen errores de : [3.0,10.0], calcule el término de error(delta minúscula) simplificado  para cada una de las neuronas en el diagrama.\n",
    "\n",
    "\n",
    "<img src=\"./imagenes/ANN.png\">"
   ]
  },
  {
   "cell_type": "markdown",
   "metadata": {},
   "source": [
    "Se definen las matrices de parámetros y vector de errores de salida:"
   ]
  },
  {
   "cell_type": "code",
   "execution_count": 2,
   "metadata": {},
   "outputs": [],
   "source": [
    "parametros_capa3 = np.array([[0.23,0.22,0.77],[0.9,0.88,-0.4]])\n",
    "parametros_capa2 = np.array([[-0.3,0.62,0.45],[0.45,0.57,0.48],[0.65,0.58,-0.45]])\n",
    "parametros_capa1 = np.array([[0.3,0.46,0.02],[0.22,-0.7,0.65],[0.65,0.9,0.34]])"
   ]
  },
  {
   "cell_type": "code",
   "execution_count": 3,
   "metadata": {},
   "outputs": [],
   "source": [
    "error_capa4 = [[3.0,10.0]]"
   ]
  },
  {
   "cell_type": "code",
   "execution_count": 4,
   "metadata": {},
   "outputs": [
    {
     "name": "stdout",
     "output_type": "stream",
     "text": [
      "Error Capa 3: [[ 9.69  9.46 -1.69]] con dimensiones (1, 3)\n"
     ]
    }
   ],
   "source": [
    "error_capa3 = np.dot(error_capa4,parametros_capa3)\n",
    "print(\"Error Capa 3:\",error_capa3,\"con dimensiones\",np.shape(error_capa3))"
   ]
  },
  {
   "cell_type": "code",
   "execution_count": 5,
   "metadata": {},
   "outputs": [
    {
     "name": "stdout",
     "output_type": "stream",
     "text": [
      "Error Capa 2: [[ 0.2515 10.4198  9.6618]] con dimensiones (1, 3)\n"
     ]
    }
   ],
   "source": [
    "error_capa2 = np.dot(error_capa3,parametros_capa2)\n",
    "print(\"Error Capa 2:\",error_capa2,\"con dimensiones\",np.shape(error_capa2))"
   ]
  },
  {
   "cell_type": "code",
   "execution_count": 6,
   "metadata": {},
   "outputs": [
    {
     "name": "stdout",
     "output_type": "stream",
     "text": [
      "Error Capa 1: [[ 8.647976  1.51745  10.062912]] con dimensiones (1, 3)\n"
     ]
    }
   ],
   "source": [
    "error_capa1 = np.dot(error_capa2,parametros_capa1)\n",
    "print(\"Error Capa 1:\",error_capa1,\"con dimensiones\",np.shape(error_capa1))"
   ]
  },
  {
   "cell_type": "markdown",
   "metadata": {},
   "source": [
    "<img src=\"./imagenes/ANN1.png\">"
   ]
  },
  {
   "cell_type": "markdown",
   "metadata": {},
   "source": [
    "## Parte No. 2\n",
    "### Back-propagation(Práctica)\n",
    "Entrenar un aproximador para la función Xor usando 2 capas intermedias.\n",
    "- Usar 2 neuronas en la capa anterior a la salida(segunda capa oculta)\n",
    "- Usar al menos 2(pueden ser más) en la  primera capa oculta.\n",
    "- Usar activación ReLu en las capas intermedias y  no activación en la salida\n",
    "- Usar numpy\n",
    "-Realizar 5 experimentos, en cada experimento(corrida de entrenamiento):\n",
    "-Inicializar los parámetros aleatoriamente con distribución normal centrada en 0 y std = 0.1\n",
    "-Retornar la representación intermedia de la segunda capa oculta.\n",
    "-Graficar las 5 representaciones intermedias(1 por experimento), comparar, comentar y/o concluir."
   ]
  },
  {
   "cell_type": "markdown",
   "metadata": {},
   "source": [
    "Se define explícitamente la función de activación ReLu y la función que calcula su derivada:"
   ]
  },
  {
   "cell_type": "code",
   "execution_count": 7,
   "metadata": {},
   "outputs": [],
   "source": [
    "def ReLu (x):   \n",
    "    return x * (x > 0)"
   ]
  },
  {
   "cell_type": "code",
   "execution_count": 8,
   "metadata": {},
   "outputs": [],
   "source": [
    "def derivada_ReLu(x):\n",
    "    \n",
    "    x[x<=0.0] = 0.0\n",
    "    x[x>0.0] = 1.0\n",
    "    \n",
    "    return x"
   ]
  },
  {
   "cell_type": "markdown",
   "metadata": {},
   "source": [
    "## Inicialización de Capas Intermedias\n",
    "Se utilizará una Red Neuronal con 2 capas ocultas donde:\n",
    "- La primera capa oculta tendrá 5 Neuronas\n",
    "- La segunda capa oculta tendrá 2 Neuronas\n",
    "\n"
   ]
  },
  {
   "cell_type": "code",
   "execution_count": 9,
   "metadata": {},
   "outputs": [],
   "source": [
    "def XOR_NN(lr,epochs):\n",
    "    \n",
    "    entradas = np.array([[0,0],[0,1],[1,0],[1,1]])\n",
    "    salida_real = np.array([[0],[1],[1],[0]])\n",
    "    \n",
    "    # Para cada llamada, se inicializan aleatoriamente los parámetros de la red\n",
    "    parametros_capa1 = np.random.normal(0,0.2,size=(2,5))\n",
    "    interceptos_capa1 = np.random.normal(0,0.1,size=(1,5))\n",
    "    parametros_capa2 = np.random.normal(0,0.2,size=(5,2))\n",
    "    interceptos_capa2 = np.random.normal(0,0.1,size=(1,2))\n",
    "    parametros_salida = np.random.normal(0,0.2,size=(2,1))\n",
    "    intercepto_salida = np.random.normal(0,0.1,size=(1,1))\n",
    "    \n",
    "    print(\"----------------------------------------\")\n",
    "    print(\"Condiciones Iniciales Pre-Entrenamiento\")\n",
    "    print(\"----------------------------------------\")\n",
    "    print(\"Pesos Capa 1:\",*parametros_capa1)\n",
    "    print(\"Interceptos Capa 1:\",*interceptos_capa1)\n",
    "    print(\"Pesos Capa 2:\",*parametros_capa2)\n",
    "    print(\"Interceptos Capa 2:\",*interceptos_capa2)\n",
    "    print(\"----------------------------------------\")\n",
    "    \n",
    "    \n",
    "    for i in range(epochs):\n",
    "        \n",
    "        # Propagación Capa 1\n",
    "        activacion_capa1 = np.dot(entradas,parametros_capa1)\n",
    "        activacion_capa1 += interceptos_capa1\n",
    "        salida_capa1 = ReLu(activacion_capa1)\n",
    "    \n",
    "        # Propagación Capa 2\n",
    "        activacion_capa2 = np.dot(salida_capa1,parametros_capa2)\n",
    "        activacion_capa2 += interceptos_capa2\n",
    "        salida_capa2 = ReLu(activacion_capa2)\n",
    "    \n",
    "        # Propagación Capa Salida\n",
    "        activacion_capa_salida = np.dot(salida_capa2,parametros_salida)\n",
    "        activacion_capa_salida += intercepto_salida\n",
    "        salida_estimada = activacion_capa_salida * 1 # No se usa activación en la salida, por lo que la derivada es 1\n",
    "    \n",
    "        #------------------------------------------------------------------------------------\n",
    "    \n",
    "        #Backpropagation\n",
    "    \n",
    "        #Backpropagation Capa de Salida\n",
    "        error_capa_salida = salida_real - salida_estimada\n",
    "    \n",
    "        #Backpropagation Capa 2\n",
    "        error_capa2 = np.dot(error_capa_salida,parametros_salida.T) * derivada_ReLu(salida_capa2)\n",
    "    \n",
    "        #Backpropagation Capa 1\n",
    "        error_capa1 = np.dot(error_capa2,parametros_capa2.T) * derivada_ReLu(salida_capa1)\n",
    "        \n",
    "        #------------------------------------------------------------------------------------       \n",
    "    \n",
    "        # Actualización de Parámetros Capa Salida\n",
    "        parametros_salida += salida_capa2.T.dot(error_capa_salida) * lr\n",
    "        intercepto_salida += np.sum(error_capa_salida,axis=0,keepdims=True) * lr\n",
    "    \n",
    "        # Actualización de Parámetros Capa 1\n",
    "        parametros_capa2 += salida_capa1.T.dot(error_capa2) * lr\n",
    "        interceptos_capa2 += np.sum(error_capa2,axis=0,keepdims=True) * lr\n",
    "        \n",
    "        # Actualización de Parámetros Capa 2\n",
    "        parametros_capa1 += entradas.T.dot(error_capa1) * lr\n",
    "        interceptos_capa1 += np.sum(error_capa1,axis=0,keepdims=True) * lr\n",
    "\n",
    "    \n",
    "    print(\"Representación Intermedia Capa 2:\")\n",
    "    print(\"----------------------------------------\")\n",
    "    print(salida_capa2)\n",
    "    print(\"----------------------------------------\")   \n",
    "    x = salida_capa2[:,0]\n",
    "    y = salida_capa2[:,1]\n",
    "\n",
    "    plt.plot(x, y, 'o', color='red');\n",
    "    plt.show()\n",
    "        \n",
    "        \n",
    "    print(\"Condiciones Finales Post-Entrenamiento\")\n",
    "    print(\"----------------------------------------\")\n",
    "    print(\"Pesos Capa 1:\",*parametros_capa1)\n",
    "    print(\"Interceptos Capa 1:\",*interceptos_capa1)\n",
    "    print(\"Pesos Capa 2:\",*parametros_capa2)\n",
    "    print(\"Interceptos Capa 2:\",*interceptos_capa2)\n",
    "    print(\"----------------------------------------\")\n",
    "   \n",
    "    print(\"Predicción con\",epochs,\"epochs:\",*salida_estimada)\n"
   ]
  },
  {
   "cell_type": "markdown",
   "metadata": {},
   "source": [
    "### Experimento No. 1"
   ]
  },
  {
   "cell_type": "code",
   "execution_count": 12,
   "metadata": {},
   "outputs": [
    {
     "name": "stdout",
     "output_type": "stream",
     "text": [
      "----------------------------------------\n",
      "Condiciones Iniciales Pre-Entrenamiento\n",
      "----------------------------------------\n",
      "Pesos Capa 1: [ 0.17240024 -0.27348423 -0.46334321  0.05279985 -0.13081335] [ 0.13605116  0.2258269   0.14086426 -0.02000488 -0.11768008]\n",
      "Interceptos Capa 1: [-0.03644351  0.01713301 -0.04837629 -0.01526384 -0.15679934]\n",
      "Pesos Capa 2: [-0.24423514 -0.03193022] [-0.22426765  0.10756958] [-0.37924478 -0.1988193 ] [ 5.50550259e-05 -2.49809343e-01] [-0.4059371   0.26284864]\n",
      "Interceptos Capa 2: [0.05713009 0.05491586]\n",
      "----------------------------------------\n",
      "Representación Intermedia Capa 2:\n",
      "----------------------------------------\n",
      "[[1. 1.]\n",
      " [0. 1.]\n",
      " [1. 1.]\n",
      " [0. 1.]]\n",
      "----------------------------------------\n"
     ]
    },
    {
     "data": {
      "image/png": "[encoded data removed]",
      "text/plain": [
       "<Figure size 432x288 with 1 Axes>"
      ]
     },
     "metadata": {
      "needs_background": "light"
     },
     "output_type": "display_data"
    },
    {
     "name": "stdout",
     "output_type": "stream",
     "text": [
      "Condiciones Finales Post-Entrenamiento\n",
      "----------------------------------------\n",
      "Pesos Capa 1: [ 1.07252088 -0.71701138 -1.52722072  1.26763839 -0.13081335] [ 0.11247169 -1.28019766  1.52722072  0.65985256 -0.11768008]\n",
      "Interceptos Capa 1: [ 2.31862934e-06  1.99720904e+00 -1.11274037e-15  1.77666216e-17\n",
      " -1.56799339e-01]\n",
      "Pesos Capa 2: [-0.52180255 -0.2568802 ] [0.78563147 1.88890851] [-0.25438153  0.58415989] [-0.54295027  0.12331871] [-0.4059371   0.26284864]\n",
      "Interceptos Capa 2: [0.24214639 0.06670603]\n",
      "----------------------------------------\n",
      "Predicción con 10000 epochs: [3.92012705e-17] [1.] [1.] [7.82469762e-16]\n"
     ]
    }
   ],
   "source": [
    "XOR_NN(0.1,10000)"
   ]
  },
  {
   "cell_type": "markdown",
   "metadata": {},
   "source": [
    "### Experimento No. 2"
   ]
  },
  {
   "cell_type": "code",
   "execution_count": 16,
   "metadata": {},
   "outputs": [
    {
     "name": "stdout",
     "output_type": "stream",
     "text": [
      "----------------------------------------\n",
      "Condiciones Iniciales Pre-Entrenamiento\n",
      "----------------------------------------\n",
      "Pesos Capa 1: [-0.00410797 -0.22873541  0.24279965 -0.38191318  0.15383877] [ 0.01309845  0.05857634 -0.20538526 -0.0324073   0.44430271]\n",
      "Interceptos Capa 1: [ 0.04992249  0.07797436  0.03885038  0.12370033 -0.07068688]\n",
      "Pesos Capa 2: [-0.01938749  0.31781475] [-0.22842887 -0.57745488] [0.04125595 0.03105449] [0.20261364 0.23643003] [-0.07423711  0.05523602]\n",
      "Interceptos Capa 2: [0.22528917 0.13607828]\n",
      "----------------------------------------\n",
      "Representación Intermedia Capa 2:\n",
      "----------------------------------------\n",
      "[[1. 1.]\n",
      " [1. 1.]\n",
      " [1. 1.]\n",
      " [1. 1.]]\n",
      "----------------------------------------\n"
     ]
    },
    {
     "data": {
      "image/png": "[encoded data removed]",
      "text/plain": [
       "<Figure size 432x288 with 1 Axes>"
      ]
     },
     "metadata": {
      "needs_background": "light"
     },
     "output_type": "display_data"
    },
    {
     "name": "stdout",
     "output_type": "stream",
     "text": [
      "Condiciones Finales Post-Entrenamiento\n",
      "----------------------------------------\n",
      "Pesos Capa 1: [ 1.37029228 -1.41294133  0.57935393 -1.30219861 -0.84357352] [-1.42640818 -1.41294133  0.39245239  1.20976244 -0.67173405]\n",
      "Interceptos Capa 1: [5.61158935e-02 1.41294133e+00 5.12033456e-18 9.24361740e-02\n",
      " 1.51530757e+00]\n",
      "Pesos Capa 2: [0.03543101 0.53809288] [-0.59454197 -1.66826379] [0.09263845 0.43824113] [0.24858753 0.34700014] [0.50345992 1.81883643]\n",
      "Interceptos Capa 2: [ 0.05218957 -0.04564458]\n",
      "----------------------------------------\n",
      "Predicción con 10000 epochs: [3.33066907e-16] [1.] [1.] [8.04911693e-16]\n"
     ]
    }
   ],
   "source": [
    "XOR_NN(0.1,10000)"
   ]
  },
  {
   "cell_type": "markdown",
   "metadata": {},
   "source": [
    "### Experimento No. 3"
   ]
  },
  {
   "cell_type": "code",
   "execution_count": 17,
   "metadata": {},
   "outputs": [
    {
     "name": "stdout",
     "output_type": "stream",
     "text": [
      "----------------------------------------\n",
      "Condiciones Iniciales Pre-Entrenamiento\n",
      "----------------------------------------\n",
      "Pesos Capa 1: [ 0.05949723 -0.1772689   0.31910539  0.05124898 -0.22650183] [ 0.14564288 -0.01787536 -0.18656661 -0.50925731 -0.40174354]\n",
      "Interceptos Capa 1: [-0.14212719  0.00829276 -0.02145681 -0.02231253  0.02081752]\n",
      "Pesos Capa 2: [ 0.11859174 -0.2900038 ] [ 0.0367465  -0.08873487] [0.09690916 0.20091619] [ 0.14250441 -0.29734174] [0.17629356 0.21327441]\n",
      "Interceptos Capa 2: [0.10974109 0.16628973]\n",
      "----------------------------------------\n",
      "Representación Intermedia Capa 2:\n",
      "----------------------------------------\n",
      "[[1. 0.]\n",
      " [1. 1.]\n",
      " [1. 0.]\n",
      " [1. 0.]]\n",
      "----------------------------------------\n"
     ]
    },
    {
     "data": {
      "image/png": "[encoded data removed]",
      "text/plain": [
       "<Figure size 432x288 with 1 Axes>"
      ]
     },
     "metadata": {
      "needs_background": "light"
     },
     "output_type": "display_data"
    },
    {
     "name": "stdout",
     "output_type": "stream",
     "text": [
      "Condiciones Finales Post-Entrenamiento\n",
      "----------------------------------------\n",
      "Pesos Capa 1: [ 2.56459141 -0.61459708  1.04989705  0.8856149  -0.22650183] [ 0.30817677 -0.62276764 -1.33498898 -0.71430674 -0.40174354]\n",
      "Interceptos Capa 1: [-0.22714004  0.61459708  0.28509193  0.30867962 -0.00068629]\n",
      "Pesos Capa 2: [-0.12065771 -0.07957956] [-0.94259343 -0.63412542] [ 0.86387213 -0.13184885] [-0.08065442 -0.92606348] [0.07312069 0.17360387]\n",
      "Interceptos Capa 2: [0.4444926  0.65503708]\n",
      "----------------------------------------\n",
      "Predicción con 10000 epochs: [-4.16333634e-17] [1.] [1.] [1.17961196e-15]\n"
     ]
    }
   ],
   "source": [
    "XOR_NN(0.1,10000)"
   ]
  },
  {
   "cell_type": "markdown",
   "metadata": {},
   "source": [
    "### Experimento No. 4"
   ]
  },
  {
   "cell_type": "code",
   "execution_count": 18,
   "metadata": {},
   "outputs": [
    {
     "name": "stdout",
     "output_type": "stream",
     "text": [
      "----------------------------------------\n",
      "Condiciones Iniciales Pre-Entrenamiento\n",
      "----------------------------------------\n",
      "Pesos Capa 1: [-0.28543363  0.21369322  0.00054766  0.1689021  -0.20710121] [ 0.42929393 -0.38541897 -0.10826425 -0.12465166 -0.14328016]\n",
      "Interceptos Capa 1: [ 0.1615116  -0.04738169 -0.03057832 -0.0120986  -0.01687151]\n",
      "Pesos Capa 2: [ 0.08087827 -0.0448391 ] [-0.39161267  0.03760652] [0.12650256 0.03680961] [-0.11940948 -0.40123281] [-0.17437694  0.18036941]\n",
      "Interceptos Capa 2: [0.09076635 0.09449023]\n",
      "----------------------------------------\n",
      "Representación Intermedia Capa 2:\n",
      "----------------------------------------\n",
      "[[0. 0.]\n",
      " [0. 0.]\n",
      " [1. 1.]\n",
      " [0. 0.]]\n",
      "----------------------------------------\n"
     ]
    },
    {
     "data": {
      "image/png": "[encoded data removed]",
      "text/plain": [
       "<Figure size 432x288 with 1 Axes>"
      ]
     },
     "metadata": {
      "needs_background": "light"
     },
     "output_type": "display_data"
    },
    {
     "name": "stdout",
     "output_type": "stream",
     "text": [
      "Condiciones Finales Post-Entrenamiento\n",
      "----------------------------------------\n",
      "Pesos Capa 1: [-4.58207688e-01  5.93956402e-01  5.47656279e-04  2.68598119e-01\n",
      " -2.07101205e-01] [ 0.59937034 -0.50601314 -0.10826425 -0.15509414 -0.14328016]\n",
      "Interceptos Capa 1: [ 0.45528354  0.0765012  -0.03057832  0.01769749 -0.01687151]\n",
      "Pesos Capa 2: [-0.72234806 -0.34723254] [0.57769824 0.32821908] [0.12650256 0.03680961] [ 0.49520499 -0.13820031] [-0.17437694  0.18036941]\n",
      "Interceptos Capa 2: [0.26609714 0.13069464]\n",
      "----------------------------------------\n",
      "Predicción con 10000 epochs: [0.33333333] [0.33333333] [1.] [0.33333333]\n"
     ]
    }
   ],
   "source": [
    "XOR_NN(0.1,10000)"
   ]
  },
  {
   "cell_type": "markdown",
   "metadata": {},
   "source": [
    "### Experimento No. 5"
   ]
  },
  {
   "cell_type": "code",
   "execution_count": 19,
   "metadata": {},
   "outputs": [
    {
     "name": "stdout",
     "output_type": "stream",
     "text": [
      "----------------------------------------\n",
      "Condiciones Iniciales Pre-Entrenamiento\n",
      "----------------------------------------\n",
      "Pesos Capa 1: [ 0.10855549  0.0499606   0.12247576 -0.16011035  0.11371199] [ 0.0308025  -0.19360066 -0.04510924 -0.2299234   0.10154076]\n",
      "Interceptos Capa 1: [-0.12156287  0.08062109 -0.02283556 -0.08061447 -0.00091174]\n",
      "Pesos Capa 2: [0.00361089 0.07650076] [ 0.11134728 -0.03945667] [-0.00465979 -0.42888464] [-0.0660437   0.10898418] [0.10826332 0.30428366]\n",
      "Interceptos Capa 2: [ 0.199075   -0.11338318]\n",
      "----------------------------------------\n",
      "Representación Intermedia Capa 2:\n",
      "----------------------------------------\n",
      "[[1. 1.]\n",
      " [1. 1.]\n",
      " [1. 0.]\n",
      " [1. 1.]]\n",
      "----------------------------------------\n"
     ]
    },
    {
     "data": {
      "image/png": "[encoded data removed]",
      "text/plain": [
       "<Figure size 432x288 with 1 Axes>"
      ]
     },
     "metadata": {
      "needs_background": "light"
     },
     "output_type": "display_data"
    },
    {
     "name": "stdout",
     "output_type": "stream",
     "text": [
      "Condiciones Finales Post-Entrenamiento\n",
      "----------------------------------------\n",
      "Pesos Capa 1: [ 0.89825052 -0.6739508   1.54296955 -0.16011035 -1.48900404] [ 0.97548864 -0.6739508  -1.91068782 -0.2299234   0.97371307]\n",
      "Interceptos Capa 1: [-0.87442676  0.6739508   0.36771826 -0.08061447  0.51529097]\n",
      "Pesos Capa 2: [-0.01858746  0.10899701] [-1.12326888 -0.06143543] [ 0.85526363 -0.6015335 ] [-0.0660437   0.10898418] [0.82275307 0.72099337]\n",
      "Interceptos Capa 2: [ 0.3206854  -0.10892207]\n",
      "----------------------------------------\n",
      "Predicción con 10000 epochs: [2.48955856e-11] [1.] [1.] [1.96544087e-10]\n"
     ]
    }
   ],
   "source": [
    "XOR_NN(0.1,10000)"
   ]
  },
  {
   "cell_type": "markdown",
   "metadata": {},
   "source": [
    "### Conclusiones:\n",
    "- Se pudo observar que la red neuronal no siempre produce el mismo modelo en cada experimento, lo cual es evidente por los pesos encontrados para cada intento. Estos pesos son distintos. Se hizo el experimento de probar con la misma inicialización de parámetros y el modelo encontrado siempre fue el mismo, por lo que se concluye que el valor final de los parámetros de la red neuronal depende en gran medida del valor inicial de los parámetros antes del entrenamiento.\n",
    "- Se logró convergencia a un valor aceptable en 4 de los experimentos, sin embargo en uno de ellos pareció no haber clasificado bien una de las combinaciones. Podría deberse a la existencia de alguna región plana de convergencia o que se necesitaban mayores iteraciones para minimizar el costo.\n",
    "- Las representaciones intermedias de la segunda capa oculta se observa una reducción de dimensionalidad a un espacio donde son separables por una linea los valores (consistente con las representaciones intermedias que se vieron en la práctica anterior con el perceptrón para XOR)."
   ]
  }
 ],
 "metadata": {
  "kernelspec": {
   "display_name": "Python 3",
   "language": "python",
   "name": "python3"
  },
  "language_info": {
   "codemirror_mode": {
    "name": "ipython",
    "version": 3
   },
   "file_extension": ".py",
   "mimetype": "text/x-python",
   "name": "python",
   "nbconvert_exporter": "python",
   "pygments_lexer": "ipython3",
   "version": "3.7.7"
  }
 },
 "nbformat": 4,
 "nbformat_minor": 4
}
